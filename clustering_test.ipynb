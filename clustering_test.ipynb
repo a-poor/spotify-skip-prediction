{
 "cells": [
  {
   "cell_type": "code",
   "execution_count": 1,
   "metadata": {},
   "outputs": [],
   "source": [
    "import numpy as np\n",
    "import pandas as pd\n",
    "import matplotlib.pyplot as plt\n",
    "%matplotlib inline\n",
    "import seaborn as sns\n",
    "sns.set()\n",
    "\n",
    "from sklearn.model_selection import train_test_split\n",
    "from sklearn.ensemble import RandomForestClassifier\n",
    "from xgboost import XGBClassifier\n",
    "\n",
    "from sklearn.cluster import AgglomerativeClustering, DBSCAN, KMeans, MeanShift, SpectralClustering"
   ]
  },
  {
   "cell_type": "code",
   "execution_count": 2,
   "metadata": {},
   "outputs": [
    {
     "data": {
      "text/html": [
       "<div>\n",
       "<style scoped>\n",
       "    .dataframe tbody tr th:only-of-type {\n",
       "        vertical-align: middle;\n",
       "    }\n",
       "\n",
       "    .dataframe tbody tr th {\n",
       "        vertical-align: top;\n",
       "    }\n",
       "\n",
       "    .dataframe thead th {\n",
       "        text-align: right;\n",
       "    }\n",
       "</style>\n",
       "<table border=\"1\" class=\"dataframe\">\n",
       "  <thead>\n",
       "    <tr style=\"text-align: right;\">\n",
       "      <th></th>\n",
       "      <th>duration</th>\n",
       "      <th>release_year</th>\n",
       "      <th>us_popularity_estimate</th>\n",
       "      <th>acousticness</th>\n",
       "      <th>beat_strength</th>\n",
       "      <th>bounciness</th>\n",
       "      <th>danceability</th>\n",
       "      <th>dyn_range_mean</th>\n",
       "      <th>energy</th>\n",
       "      <th>flatness</th>\n",
       "      <th>...</th>\n",
       "      <th>time_signature</th>\n",
       "      <th>valence</th>\n",
       "      <th>acoustic_vector_0</th>\n",
       "      <th>acoustic_vector_1</th>\n",
       "      <th>acoustic_vector_2</th>\n",
       "      <th>acoustic_vector_3</th>\n",
       "      <th>acoustic_vector_4</th>\n",
       "      <th>acoustic_vector_5</th>\n",
       "      <th>acoustic_vector_6</th>\n",
       "      <th>acoustic_vector_7</th>\n",
       "    </tr>\n",
       "    <tr>\n",
       "      <th>track_id</th>\n",
       "      <th></th>\n",
       "      <th></th>\n",
       "      <th></th>\n",
       "      <th></th>\n",
       "      <th></th>\n",
       "      <th></th>\n",
       "      <th></th>\n",
       "      <th></th>\n",
       "      <th></th>\n",
       "      <th></th>\n",
       "      <th></th>\n",
       "      <th></th>\n",
       "      <th></th>\n",
       "      <th></th>\n",
       "      <th></th>\n",
       "      <th></th>\n",
       "      <th></th>\n",
       "      <th></th>\n",
       "      <th></th>\n",
       "      <th></th>\n",
       "      <th></th>\n",
       "    </tr>\n",
       "  </thead>\n",
       "  <tbody>\n",
       "    <tr>\n",
       "      <th>t_a540e552-16d4-42f8-a185-232bd650ea7d</th>\n",
       "      <td>109.706673</td>\n",
       "      <td>1950</td>\n",
       "      <td>99.975414</td>\n",
       "      <td>0.458040</td>\n",
       "      <td>0.519497</td>\n",
       "      <td>0.504949</td>\n",
       "      <td>0.399767</td>\n",
       "      <td>7.511880</td>\n",
       "      <td>0.817709</td>\n",
       "      <td>0.903753</td>\n",
       "      <td>...</td>\n",
       "      <td>4</td>\n",
       "      <td>0.935512</td>\n",
       "      <td>-0.033284</td>\n",
       "      <td>-0.411896</td>\n",
       "      <td>-0.028580</td>\n",
       "      <td>0.349438</td>\n",
       "      <td>0.832467</td>\n",
       "      <td>-0.213871</td>\n",
       "      <td>-0.299464</td>\n",
       "      <td>-0.675907</td>\n",
       "    </tr>\n",
       "    <tr>\n",
       "      <th>t_67965da0-132b-4b1e-8a69-0ef99b32287c</th>\n",
       "      <td>187.693329</td>\n",
       "      <td>1950</td>\n",
       "      <td>99.969430</td>\n",
       "      <td>0.916272</td>\n",
       "      <td>0.419223</td>\n",
       "      <td>0.545530</td>\n",
       "      <td>0.491235</td>\n",
       "      <td>9.098376</td>\n",
       "      <td>0.154258</td>\n",
       "      <td>1.037952</td>\n",
       "      <td>...</td>\n",
       "      <td>3</td>\n",
       "      <td>0.359675</td>\n",
       "      <td>0.145703</td>\n",
       "      <td>-0.850372</td>\n",
       "      <td>0.123860</td>\n",
       "      <td>0.746904</td>\n",
       "      <td>0.371803</td>\n",
       "      <td>-0.420558</td>\n",
       "      <td>-0.213120</td>\n",
       "      <td>-0.525795</td>\n",
       "    </tr>\n",
       "    <tr>\n",
       "      <th>t_0614ecd3-a7d5-40a1-816e-156d5872a467</th>\n",
       "      <td>160.839996</td>\n",
       "      <td>1951</td>\n",
       "      <td>99.602549</td>\n",
       "      <td>0.812884</td>\n",
       "      <td>0.425890</td>\n",
       "      <td>0.508280</td>\n",
       "      <td>0.491625</td>\n",
       "      <td>8.368670</td>\n",
       "      <td>0.358813</td>\n",
       "      <td>1.004268</td>\n",
       "      <td>...</td>\n",
       "      <td>4</td>\n",
       "      <td>0.726769</td>\n",
       "      <td>0.021720</td>\n",
       "      <td>-0.743634</td>\n",
       "      <td>0.333247</td>\n",
       "      <td>0.568447</td>\n",
       "      <td>0.411094</td>\n",
       "      <td>-0.187749</td>\n",
       "      <td>-0.387599</td>\n",
       "      <td>-0.433496</td>\n",
       "    </tr>\n",
       "    <tr>\n",
       "      <th>t_070a63a0-744a-434e-9913-a97b02926a29</th>\n",
       "      <td>175.399994</td>\n",
       "      <td>1951</td>\n",
       "      <td>99.665018</td>\n",
       "      <td>0.396854</td>\n",
       "      <td>0.400934</td>\n",
       "      <td>0.359990</td>\n",
       "      <td>0.552227</td>\n",
       "      <td>5.967346</td>\n",
       "      <td>0.514585</td>\n",
       "      <td>0.975138</td>\n",
       "      <td>...</td>\n",
       "      <td>4</td>\n",
       "      <td>0.859075</td>\n",
       "      <td>0.039143</td>\n",
       "      <td>-0.267555</td>\n",
       "      <td>-0.051825</td>\n",
       "      <td>0.106173</td>\n",
       "      <td>0.614825</td>\n",
       "      <td>-0.111419</td>\n",
       "      <td>-0.265953</td>\n",
       "      <td>-0.542753</td>\n",
       "    </tr>\n",
       "    <tr>\n",
       "      <th>t_d6990e17-9c31-4b01-8559-47d9ce476df1</th>\n",
       "      <td>369.600006</td>\n",
       "      <td>1951</td>\n",
       "      <td>99.991764</td>\n",
       "      <td>0.728831</td>\n",
       "      <td>0.371328</td>\n",
       "      <td>0.335115</td>\n",
       "      <td>0.483044</td>\n",
       "      <td>5.802681</td>\n",
       "      <td>0.721442</td>\n",
       "      <td>0.976866</td>\n",
       "      <td>...</td>\n",
       "      <td>4</td>\n",
       "      <td>0.562343</td>\n",
       "      <td>0.131931</td>\n",
       "      <td>-0.292523</td>\n",
       "      <td>-0.174819</td>\n",
       "      <td>-0.034422</td>\n",
       "      <td>0.717229</td>\n",
       "      <td>-0.016239</td>\n",
       "      <td>-0.392694</td>\n",
       "      <td>-0.455496</td>\n",
       "    </tr>\n",
       "  </tbody>\n",
       "</table>\n",
       "<p>5 rows × 29 columns</p>\n",
       "</div>"
      ],
      "text/plain": [
       "                                          duration  release_year  \\\n",
       "track_id                                                           \n",
       "t_a540e552-16d4-42f8-a185-232bd650ea7d  109.706673          1950   \n",
       "t_67965da0-132b-4b1e-8a69-0ef99b32287c  187.693329          1950   \n",
       "t_0614ecd3-a7d5-40a1-816e-156d5872a467  160.839996          1951   \n",
       "t_070a63a0-744a-434e-9913-a97b02926a29  175.399994          1951   \n",
       "t_d6990e17-9c31-4b01-8559-47d9ce476df1  369.600006          1951   \n",
       "\n",
       "                                        us_popularity_estimate  acousticness  \\\n",
       "track_id                                                                       \n",
       "t_a540e552-16d4-42f8-a185-232bd650ea7d               99.975414      0.458040   \n",
       "t_67965da0-132b-4b1e-8a69-0ef99b32287c               99.969430      0.916272   \n",
       "t_0614ecd3-a7d5-40a1-816e-156d5872a467               99.602549      0.812884   \n",
       "t_070a63a0-744a-434e-9913-a97b02926a29               99.665018      0.396854   \n",
       "t_d6990e17-9c31-4b01-8559-47d9ce476df1               99.991764      0.728831   \n",
       "\n",
       "                                        beat_strength  bounciness  \\\n",
       "track_id                                                            \n",
       "t_a540e552-16d4-42f8-a185-232bd650ea7d       0.519497    0.504949   \n",
       "t_67965da0-132b-4b1e-8a69-0ef99b32287c       0.419223    0.545530   \n",
       "t_0614ecd3-a7d5-40a1-816e-156d5872a467       0.425890    0.508280   \n",
       "t_070a63a0-744a-434e-9913-a97b02926a29       0.400934    0.359990   \n",
       "t_d6990e17-9c31-4b01-8559-47d9ce476df1       0.371328    0.335115   \n",
       "\n",
       "                                        danceability  dyn_range_mean  \\\n",
       "track_id                                                               \n",
       "t_a540e552-16d4-42f8-a185-232bd650ea7d      0.399767        7.511880   \n",
       "t_67965da0-132b-4b1e-8a69-0ef99b32287c      0.491235        9.098376   \n",
       "t_0614ecd3-a7d5-40a1-816e-156d5872a467      0.491625        8.368670   \n",
       "t_070a63a0-744a-434e-9913-a97b02926a29      0.552227        5.967346   \n",
       "t_d6990e17-9c31-4b01-8559-47d9ce476df1      0.483044        5.802681   \n",
       "\n",
       "                                          energy  flatness  ...  \\\n",
       "track_id                                                    ...   \n",
       "t_a540e552-16d4-42f8-a185-232bd650ea7d  0.817709  0.903753  ...   \n",
       "t_67965da0-132b-4b1e-8a69-0ef99b32287c  0.154258  1.037952  ...   \n",
       "t_0614ecd3-a7d5-40a1-816e-156d5872a467  0.358813  1.004268  ...   \n",
       "t_070a63a0-744a-434e-9913-a97b02926a29  0.514585  0.975138  ...   \n",
       "t_d6990e17-9c31-4b01-8559-47d9ce476df1  0.721442  0.976866  ...   \n",
       "\n",
       "                                        time_signature   valence  \\\n",
       "track_id                                                           \n",
       "t_a540e552-16d4-42f8-a185-232bd650ea7d               4  0.935512   \n",
       "t_67965da0-132b-4b1e-8a69-0ef99b32287c               3  0.359675   \n",
       "t_0614ecd3-a7d5-40a1-816e-156d5872a467               4  0.726769   \n",
       "t_070a63a0-744a-434e-9913-a97b02926a29               4  0.859075   \n",
       "t_d6990e17-9c31-4b01-8559-47d9ce476df1               4  0.562343   \n",
       "\n",
       "                                        acoustic_vector_0  acoustic_vector_1  \\\n",
       "track_id                                                                       \n",
       "t_a540e552-16d4-42f8-a185-232bd650ea7d          -0.033284          -0.411896   \n",
       "t_67965da0-132b-4b1e-8a69-0ef99b32287c           0.145703          -0.850372   \n",
       "t_0614ecd3-a7d5-40a1-816e-156d5872a467           0.021720          -0.743634   \n",
       "t_070a63a0-744a-434e-9913-a97b02926a29           0.039143          -0.267555   \n",
       "t_d6990e17-9c31-4b01-8559-47d9ce476df1           0.131931          -0.292523   \n",
       "\n",
       "                                        acoustic_vector_2  acoustic_vector_3  \\\n",
       "track_id                                                                       \n",
       "t_a540e552-16d4-42f8-a185-232bd650ea7d          -0.028580           0.349438   \n",
       "t_67965da0-132b-4b1e-8a69-0ef99b32287c           0.123860           0.746904   \n",
       "t_0614ecd3-a7d5-40a1-816e-156d5872a467           0.333247           0.568447   \n",
       "t_070a63a0-744a-434e-9913-a97b02926a29          -0.051825           0.106173   \n",
       "t_d6990e17-9c31-4b01-8559-47d9ce476df1          -0.174819          -0.034422   \n",
       "\n",
       "                                        acoustic_vector_4  acoustic_vector_5  \\\n",
       "track_id                                                                       \n",
       "t_a540e552-16d4-42f8-a185-232bd650ea7d           0.832467          -0.213871   \n",
       "t_67965da0-132b-4b1e-8a69-0ef99b32287c           0.371803          -0.420558   \n",
       "t_0614ecd3-a7d5-40a1-816e-156d5872a467           0.411094          -0.187749   \n",
       "t_070a63a0-744a-434e-9913-a97b02926a29           0.614825          -0.111419   \n",
       "t_d6990e17-9c31-4b01-8559-47d9ce476df1           0.717229          -0.016239   \n",
       "\n",
       "                                        acoustic_vector_6  acoustic_vector_7  \n",
       "track_id                                                                      \n",
       "t_a540e552-16d4-42f8-a185-232bd650ea7d          -0.299464          -0.675907  \n",
       "t_67965da0-132b-4b1e-8a69-0ef99b32287c          -0.213120          -0.525795  \n",
       "t_0614ecd3-a7d5-40a1-816e-156d5872a467          -0.387599          -0.433496  \n",
       "t_070a63a0-744a-434e-9913-a97b02926a29          -0.265953          -0.542753  \n",
       "t_d6990e17-9c31-4b01-8559-47d9ce476df1          -0.392694          -0.455496  \n",
       "\n",
       "[5 rows x 29 columns]"
      ]
     },
     "execution_count": 2,
     "metadata": {},
     "output_type": "execute_result"
    }
   ],
   "source": [
    "track_features = (\n",
    "    pd.read_csv(\"./data/mini_data/data/track_features/tf_mini.csv\")\n",
    "    .set_index(\"track_id\")\n",
    ")\n",
    "track_features['mode'] = (track_features['mode'] == 'major').astype('int32')\n",
    "track_features.head()"
   ]
  },
  {
   "cell_type": "code",
   "execution_count": 3,
   "metadata": {},
   "outputs": [
    {
     "name": "stdout",
     "output_type": "stream",
     "text": [
      "<class 'pandas.core.frame.DataFrame'>\n",
      "Index: 50704 entries, t_a540e552-16d4-42f8-a185-232bd650ea7d to t_aec0dda3-19b4-4222-be07-327c12f21456\n",
      "Data columns (total 29 columns):\n",
      "duration                  50704 non-null float64\n",
      "release_year              50704 non-null int64\n",
      "us_popularity_estimate    50704 non-null float64\n",
      "acousticness              50704 non-null float64\n",
      "beat_strength             50704 non-null float64\n",
      "bounciness                50704 non-null float64\n",
      "danceability              50704 non-null float64\n",
      "dyn_range_mean            50704 non-null float64\n",
      "energy                    50704 non-null float64\n",
      "flatness                  50704 non-null float64\n",
      "instrumentalness          50704 non-null float64\n",
      "key                       50704 non-null int64\n",
      "liveness                  50704 non-null float64\n",
      "loudness                  50704 non-null float64\n",
      "mechanism                 50704 non-null float64\n",
      "mode                      50704 non-null int32\n",
      "organism                  50704 non-null float64\n",
      "speechiness               50704 non-null float64\n",
      "tempo                     50704 non-null float64\n",
      "time_signature            50704 non-null int64\n",
      "valence                   50704 non-null float64\n",
      "acoustic_vector_0         50704 non-null float64\n",
      "acoustic_vector_1         50704 non-null float64\n",
      "acoustic_vector_2         50704 non-null float64\n",
      "acoustic_vector_3         50704 non-null float64\n",
      "acoustic_vector_4         50704 non-null float64\n",
      "acoustic_vector_5         50704 non-null float64\n",
      "acoustic_vector_6         50704 non-null float64\n",
      "acoustic_vector_7         50704 non-null float64\n",
      "dtypes: float64(25), int32(1), int64(3)\n",
      "memory usage: 11.4+ MB\n"
     ]
    }
   ],
   "source": [
    "track_features.info()"
   ]
  },
  {
   "cell_type": "markdown",
   "metadata": {},
   "source": [
    "Start by cutting down on the number of features with `PCA` before clustering..."
   ]
  },
  {
   "cell_type": "code",
   "execution_count": 4,
   "metadata": {},
   "outputs": [],
   "source": [
    "from sklearn.decomposition import PCA\n",
    "from sklearn.manifold import TSNE"
   ]
  },
  {
   "cell_type": "code",
   "execution_count": 5,
   "metadata": {},
   "outputs": [
    {
     "data": {
      "text/plain": [
       "(29,)"
      ]
     },
     "execution_count": 5,
     "metadata": {},
     "output_type": "execute_result"
    }
   ],
   "source": [
    "track_features.columns.shape"
   ]
  },
  {
   "cell_type": "code",
   "execution_count": 6,
   "metadata": {},
   "outputs": [
    {
     "data": {
      "text/plain": [
       "(50704, 10)"
      ]
     },
     "execution_count": 6,
     "metadata": {},
     "output_type": "execute_result"
    }
   ],
   "source": [
    "pca = PCA(n_components=10)\n",
    "pca_track_features = pca.fit_transform(track_features)\n",
    "pca_track_features.shape"
   ]
  },
  {
   "cell_type": "markdown",
   "metadata": {},
   "source": [
    "`PCA` has (semi-)scaled the data to be mean 0"
   ]
  },
  {
   "cell_type": "code",
   "execution_count": 7,
   "metadata": {},
   "outputs": [
    {
     "name": "stdout",
     "output_type": "stream",
     "text": [
      "# Mean & Std by PCA Column #\n",
      "---+---------------+--------\n",
      " i |      mean     |   std\n",
      "---+---------------+--------\n",
      " 0 |  +0.000000000 | 72.241\n",
      " 1 |  -0.000000000 | 29.791\n",
      " 2 |  -0.000000000 | 11.410\n",
      " 3 |  +0.000000000 |  3.820\n",
      " 4 |  +0.000000000 |  3.593\n",
      " 5 |  -0.000000000 |  2.417\n",
      " 6 |  -0.000000000 |  1.135\n",
      " 7 |  +0.000000000 |  0.536\n",
      " 8 |  +0.000000000 |  0.454\n",
      " 9 |  +0.000000000 |  0.386\n"
     ]
    }
   ],
   "source": [
    "print(\"# Mean & Std by PCA Column #\")\n",
    "print(\"---+---------------+--------\")\n",
    "print(\" i |      mean     |   std\")\n",
    "print(\"---+---------------+--------\")\n",
    "for i in range(10):\n",
    "    print(\"%2d |  %+.9f | %6.3f\" % (i, pca_track_features[:,i].mean(), pca_track_features[:,i].std()))"
   ]
  },
  {
   "cell_type": "code",
   "execution_count": 8,
   "metadata": {},
   "outputs": [],
   "source": [
    "N_CLUSTERS = 20"
   ]
  },
  {
   "cell_type": "markdown",
   "metadata": {},
   "source": [
    "Create clusters with `KMeans`..."
   ]
  },
  {
   "cell_type": "code",
   "execution_count": 9,
   "metadata": {},
   "outputs": [],
   "source": [
    "kmeans = KMeans(\n",
    "    n_clusters=N_CLUSTERS\n",
    ").fit(pca_track_features)"
   ]
  },
  {
   "cell_type": "code",
   "execution_count": 10,
   "metadata": {},
   "outputs": [],
   "source": [
    "kmeans_labels = pd.Series(\n",
    "    kmeans.labels_,\n",
    "    index=track_features.index,\n",
    "    name=f\"kmeans_{N_CLUSTERS}\"\n",
    ")"
   ]
  },
  {
   "cell_type": "code",
   "execution_count": 22,
   "metadata": {},
   "outputs": [
    {
     "data": {
      "text/plain": [
       "track_id\n",
       "t_a540e552-16d4-42f8-a185-232bd650ea7d    15\n",
       "t_67965da0-132b-4b1e-8a69-0ef99b32287c    17\n",
       "t_0614ecd3-a7d5-40a1-816e-156d5872a467    17\n",
       "t_070a63a0-744a-434e-9913-a97b02926a29    17\n",
       "t_d6990e17-9c31-4b01-8559-47d9ce476df1    10\n",
       "Name: kmeans_20, dtype: int32"
      ]
     },
     "execution_count": 22,
     "metadata": {},
     "output_type": "execute_result"
    }
   ],
   "source": [
    "kmeans_labels.head()"
   ]
  },
  {
   "cell_type": "code",
   "execution_count": 28,
   "metadata": {},
   "outputs": [],
   "source": [
    "kmeans_labels.reset_index().to_csv(\n",
    "    \"kmeans_pca_clusters.csv\",\n",
    "    index=False\n",
    ")"
   ]
  },
  {
   "cell_type": "markdown",
   "metadata": {},
   "source": [
    "***\n",
    "\n",
    "What if we try clustering just the `acoustic_vectors`"
   ]
  },
  {
   "cell_type": "code",
   "execution_count": 31,
   "metadata": {},
   "outputs": [
    {
     "data": {
      "text/html": [
       "<div>\n",
       "<style scoped>\n",
       "    .dataframe tbody tr th:only-of-type {\n",
       "        vertical-align: middle;\n",
       "    }\n",
       "\n",
       "    .dataframe tbody tr th {\n",
       "        vertical-align: top;\n",
       "    }\n",
       "\n",
       "    .dataframe thead th {\n",
       "        text-align: right;\n",
       "    }\n",
       "</style>\n",
       "<table border=\"1\" class=\"dataframe\">\n",
       "  <thead>\n",
       "    <tr style=\"text-align: right;\">\n",
       "      <th></th>\n",
       "      <th>acoustic_vector_0</th>\n",
       "      <th>acoustic_vector_1</th>\n",
       "      <th>acoustic_vector_2</th>\n",
       "      <th>acoustic_vector_3</th>\n",
       "      <th>acoustic_vector_4</th>\n",
       "      <th>acoustic_vector_5</th>\n",
       "      <th>acoustic_vector_6</th>\n",
       "      <th>acoustic_vector_7</th>\n",
       "    </tr>\n",
       "    <tr>\n",
       "      <th>track_id</th>\n",
       "      <th></th>\n",
       "      <th></th>\n",
       "      <th></th>\n",
       "      <th></th>\n",
       "      <th></th>\n",
       "      <th></th>\n",
       "      <th></th>\n",
       "      <th></th>\n",
       "    </tr>\n",
       "  </thead>\n",
       "  <tbody>\n",
       "    <tr>\n",
       "      <th>t_a540e552-16d4-42f8-a185-232bd650ea7d</th>\n",
       "      <td>-0.033284</td>\n",
       "      <td>-0.411896</td>\n",
       "      <td>-0.028580</td>\n",
       "      <td>0.349438</td>\n",
       "      <td>0.832467</td>\n",
       "      <td>-0.213871</td>\n",
       "      <td>-0.299464</td>\n",
       "      <td>-0.675907</td>\n",
       "    </tr>\n",
       "    <tr>\n",
       "      <th>t_67965da0-132b-4b1e-8a69-0ef99b32287c</th>\n",
       "      <td>0.145703</td>\n",
       "      <td>-0.850372</td>\n",
       "      <td>0.123860</td>\n",
       "      <td>0.746904</td>\n",
       "      <td>0.371803</td>\n",
       "      <td>-0.420558</td>\n",
       "      <td>-0.213120</td>\n",
       "      <td>-0.525795</td>\n",
       "    </tr>\n",
       "    <tr>\n",
       "      <th>t_0614ecd3-a7d5-40a1-816e-156d5872a467</th>\n",
       "      <td>0.021720</td>\n",
       "      <td>-0.743634</td>\n",
       "      <td>0.333247</td>\n",
       "      <td>0.568447</td>\n",
       "      <td>0.411094</td>\n",
       "      <td>-0.187749</td>\n",
       "      <td>-0.387599</td>\n",
       "      <td>-0.433496</td>\n",
       "    </tr>\n",
       "    <tr>\n",
       "      <th>t_070a63a0-744a-434e-9913-a97b02926a29</th>\n",
       "      <td>0.039143</td>\n",
       "      <td>-0.267555</td>\n",
       "      <td>-0.051825</td>\n",
       "      <td>0.106173</td>\n",
       "      <td>0.614825</td>\n",
       "      <td>-0.111419</td>\n",
       "      <td>-0.265953</td>\n",
       "      <td>-0.542753</td>\n",
       "    </tr>\n",
       "    <tr>\n",
       "      <th>t_d6990e17-9c31-4b01-8559-47d9ce476df1</th>\n",
       "      <td>0.131931</td>\n",
       "      <td>-0.292523</td>\n",
       "      <td>-0.174819</td>\n",
       "      <td>-0.034422</td>\n",
       "      <td>0.717229</td>\n",
       "      <td>-0.016239</td>\n",
       "      <td>-0.392694</td>\n",
       "      <td>-0.455496</td>\n",
       "    </tr>\n",
       "  </tbody>\n",
       "</table>\n",
       "</div>"
      ],
      "text/plain": [
       "                                        acoustic_vector_0  acoustic_vector_1  \\\n",
       "track_id                                                                       \n",
       "t_a540e552-16d4-42f8-a185-232bd650ea7d          -0.033284          -0.411896   \n",
       "t_67965da0-132b-4b1e-8a69-0ef99b32287c           0.145703          -0.850372   \n",
       "t_0614ecd3-a7d5-40a1-816e-156d5872a467           0.021720          -0.743634   \n",
       "t_070a63a0-744a-434e-9913-a97b02926a29           0.039143          -0.267555   \n",
       "t_d6990e17-9c31-4b01-8559-47d9ce476df1           0.131931          -0.292523   \n",
       "\n",
       "                                        acoustic_vector_2  acoustic_vector_3  \\\n",
       "track_id                                                                       \n",
       "t_a540e552-16d4-42f8-a185-232bd650ea7d          -0.028580           0.349438   \n",
       "t_67965da0-132b-4b1e-8a69-0ef99b32287c           0.123860           0.746904   \n",
       "t_0614ecd3-a7d5-40a1-816e-156d5872a467           0.333247           0.568447   \n",
       "t_070a63a0-744a-434e-9913-a97b02926a29          -0.051825           0.106173   \n",
       "t_d6990e17-9c31-4b01-8559-47d9ce476df1          -0.174819          -0.034422   \n",
       "\n",
       "                                        acoustic_vector_4  acoustic_vector_5  \\\n",
       "track_id                                                                       \n",
       "t_a540e552-16d4-42f8-a185-232bd650ea7d           0.832467          -0.213871   \n",
       "t_67965da0-132b-4b1e-8a69-0ef99b32287c           0.371803          -0.420558   \n",
       "t_0614ecd3-a7d5-40a1-816e-156d5872a467           0.411094          -0.187749   \n",
       "t_070a63a0-744a-434e-9913-a97b02926a29           0.614825          -0.111419   \n",
       "t_d6990e17-9c31-4b01-8559-47d9ce476df1           0.717229          -0.016239   \n",
       "\n",
       "                                        acoustic_vector_6  acoustic_vector_7  \n",
       "track_id                                                                      \n",
       "t_a540e552-16d4-42f8-a185-232bd650ea7d          -0.299464          -0.675907  \n",
       "t_67965da0-132b-4b1e-8a69-0ef99b32287c          -0.213120          -0.525795  \n",
       "t_0614ecd3-a7d5-40a1-816e-156d5872a467          -0.387599          -0.433496  \n",
       "t_070a63a0-744a-434e-9913-a97b02926a29          -0.265953          -0.542753  \n",
       "t_d6990e17-9c31-4b01-8559-47d9ce476df1          -0.392694          -0.455496  "
      ]
     },
     "execution_count": 31,
     "metadata": {},
     "output_type": "execute_result"
    }
   ],
   "source": [
    "acoustic_vectors = track_features[[c for c in track_features.columns if \"acoustic_vector\" in c]]\n",
    "acoustic_vectors.head()"
   ]
  },
  {
   "cell_type": "code",
   "execution_count": 38,
   "metadata": {},
   "outputs": [
    {
     "data": {
      "text/html": [
       "<div>\n",
       "<style scoped>\n",
       "    .dataframe tbody tr th:only-of-type {\n",
       "        vertical-align: middle;\n",
       "    }\n",
       "\n",
       "    .dataframe tbody tr th {\n",
       "        vertical-align: top;\n",
       "    }\n",
       "\n",
       "    .dataframe thead th {\n",
       "        text-align: right;\n",
       "    }\n",
       "</style>\n",
       "<table border=\"1\" class=\"dataframe\">\n",
       "  <thead>\n",
       "    <tr style=\"text-align: right;\">\n",
       "      <th></th>\n",
       "      <th>acoustic_vector_0</th>\n",
       "      <th>acoustic_vector_1</th>\n",
       "      <th>acoustic_vector_2</th>\n",
       "      <th>acoustic_vector_3</th>\n",
       "      <th>acoustic_vector_4</th>\n",
       "      <th>acoustic_vector_5</th>\n",
       "      <th>acoustic_vector_6</th>\n",
       "      <th>acoustic_vector_7</th>\n",
       "    </tr>\n",
       "  </thead>\n",
       "  <tbody>\n",
       "    <tr>\n",
       "      <th>mean</th>\n",
       "      <td>-0.332295</td>\n",
       "      <td>0.202193</td>\n",
       "      <td>0.153935</td>\n",
       "      <td>-0.040526</td>\n",
       "      <td>-0.027247</td>\n",
       "      <td>0.049475</td>\n",
       "      <td>-0.197758</td>\n",
       "      <td>0.005153</td>\n",
       "    </tr>\n",
       "    <tr>\n",
       "      <th>std</th>\n",
       "      <td>0.416320</td>\n",
       "      <td>0.254024</td>\n",
       "      <td>0.212660</td>\n",
       "      <td>0.333129</td>\n",
       "      <td>0.377457</td>\n",
       "      <td>0.144205</td>\n",
       "      <td>0.349840</td>\n",
       "      <td>0.324259</td>\n",
       "    </tr>\n",
       "  </tbody>\n",
       "</table>\n",
       "</div>"
      ],
      "text/plain": [
       "      acoustic_vector_0  acoustic_vector_1  acoustic_vector_2  \\\n",
       "mean          -0.332295           0.202193           0.153935   \n",
       "std            0.416320           0.254024           0.212660   \n",
       "\n",
       "      acoustic_vector_3  acoustic_vector_4  acoustic_vector_5  \\\n",
       "mean          -0.040526          -0.027247           0.049475   \n",
       "std            0.333129           0.377457           0.144205   \n",
       "\n",
       "      acoustic_vector_6  acoustic_vector_7  \n",
       "mean          -0.197758           0.005153  \n",
       "std            0.349840           0.324259  "
      ]
     },
     "execution_count": 38,
     "metadata": {},
     "output_type": "execute_result"
    }
   ],
   "source": [
    "acoustic_vectors.agg(['mean','std'])"
   ]
  },
  {
   "cell_type": "code",
   "execution_count": 39,
   "metadata": {},
   "outputs": [],
   "source": [
    "from sklearn.preprocessing import StandardScaler\n",
    "\n",
    "scaler = StandardScaler()\n",
    "scaled_vecs = scaler.fit_transform(acoustic_vectors)"
   ]
  },
  {
   "cell_type": "code",
   "execution_count": 52,
   "metadata": {},
   "outputs": [
    {
     "name": "stdout",
     "output_type": "stream",
     "text": [
      " i |    mean  |    std\n",
      "---+----------+----------\n",
      " 0 | -0.00000 | +1.00000\n",
      " 1 | +0.00000 | +1.00000\n",
      " 2 | +0.00000 | +1.00000\n",
      " 3 | -0.00000 | +1.00000\n",
      " 4 | -0.00000 | +1.00000\n",
      " 5 | -0.00000 | +1.00000\n",
      " 6 | +0.00000 | +1.00000\n",
      " 7 | +0.00000 | +1.00000\n"
     ]
    }
   ],
   "source": [
    "print(\" i |    mean  |    std\")\n",
    "print(\"---+----------+----------\")\n",
    "for i in range(8):\n",
    "    print(\" %d | %+.5f | %+.5f\" % (i, scaled_vecs[:,i].mean(), scaled_vecs[:,i].std()))"
   ]
  },
  {
   "cell_type": "code",
   "execution_count": 53,
   "metadata": {},
   "outputs": [],
   "source": [
    "N_CLUSTERS = 10"
   ]
  },
  {
   "cell_type": "code",
   "execution_count": 55,
   "metadata": {},
   "outputs": [
    {
     "data": {
      "text/plain": [
       "0    15197\n",
       "1     4584\n",
       "2     4556\n",
       "3     4126\n",
       "4     3563\n",
       "5     5557\n",
       "6     1100\n",
       "7     7202\n",
       "8     3445\n",
       "9     1374\n",
       "Name: kmeans_acoustic_10, dtype: int64"
      ]
     },
     "execution_count": 55,
     "metadata": {},
     "output_type": "execute_result"
    }
   ],
   "source": [
    "kmeans = KMeans(\n",
    "    n_clusters=N_CLUSTERS\n",
    ").fit(scaled_vecs)\n",
    "\n",
    "kmeans_labels = pd.Series(\n",
    "    kmeans.labels_,\n",
    "    index=acoustic_vectors.index,\n",
    "    name=f\"kmeans_acoustic_{N_CLUSTERS}\"\n",
    ")\n",
    "\n",
    "kmeans_labels.value_counts().sort_index()"
   ]
  },
  {
   "cell_type": "markdown",
   "metadata": {},
   "source": [
    "Cluster with `DBSCAN`..."
   ]
  },
  {
   "cell_type": "code",
   "execution_count": 56,
   "metadata": {},
   "outputs": [
    {
     "data": {
      "text/plain": [
       "-1      4094\n",
       " 0     45801\n",
       " 1        27\n",
       " 2        15\n",
       " 3         8\n",
       " 4       301\n",
       " 5        30\n",
       " 6        97\n",
       " 7         7\n",
       " 8        70\n",
       " 9        19\n",
       " 10       16\n",
       " 11       13\n",
       " 12        6\n",
       " 13       26\n",
       " 14        7\n",
       " 15        5\n",
       " 16        7\n",
       " 17        5\n",
       " 18        4\n",
       " 19        5\n",
       " 20        4\n",
       " 21       10\n",
       " 22        5\n",
       " 23        4\n",
       " 24        4\n",
       " 25        5\n",
       " 26       16\n",
       " 27        5\n",
       " 28        9\n",
       " 29        6\n",
       " 30        5\n",
       " 31        5\n",
       " 32        4\n",
       " 33        4\n",
       " 34        5\n",
       " 35        6\n",
       " 36        5\n",
       " 37        5\n",
       " 38        5\n",
       " 39        4\n",
       " 40        5\n",
       " 41        5\n",
       " 42        4\n",
       " 43        2\n",
       " 44        5\n",
       " 45        4\n",
       "Name: dbscan_acoustic, dtype: int64"
      ]
     },
     "execution_count": 56,
     "metadata": {},
     "output_type": "execute_result"
    }
   ],
   "source": [
    "dbscan = DBSCAN().fit(scaled_vecs)\n",
    "\n",
    "dbscan_labels = pd.Series(\n",
    "    dbscan.labels_,\n",
    "    index=acoustic_vectors.index,\n",
    "    name=f\"dbscan_acoustic\"\n",
    ")\n",
    "\n",
    "dbscan_labels.value_counts().sort_index()"
   ]
  },
  {
   "cell_type": "markdown",
   "metadata": {},
   "source": [
    "Create `MeanShift` clusters..."
   ]
  },
  {
   "cell_type": "code",
   "execution_count": 57,
   "metadata": {},
   "outputs": [
    {
     "ename": "KeyboardInterrupt",
     "evalue": "",
     "output_type": "error",
     "traceback": [
      "\u001b[0;31m---------------------------------------------------------------------------\u001b[0m",
      "\u001b[0;31mKeyboardInterrupt\u001b[0m                         Traceback (most recent call last)",
      "\u001b[0;32m<ipython-input-57-a564f470716b>\u001b[0m in \u001b[0;36m<module>\u001b[0;34m\u001b[0m\n\u001b[0;32m----> 1\u001b[0;31m \u001b[0mmeanshift\u001b[0m \u001b[0;34m=\u001b[0m \u001b[0mMeanShift\u001b[0m\u001b[0;34m(\u001b[0m\u001b[0;34m)\u001b[0m\u001b[0;34m.\u001b[0m\u001b[0mfit\u001b[0m\u001b[0;34m(\u001b[0m\u001b[0mscaled_vecs\u001b[0m\u001b[0;34m)\u001b[0m\u001b[0;34m\u001b[0m\u001b[0;34m\u001b[0m\u001b[0m\n\u001b[0m\u001b[1;32m      2\u001b[0m \u001b[0;34m\u001b[0m\u001b[0m\n\u001b[1;32m      3\u001b[0m meanshift_labels = pd.Series(\n\u001b[1;32m      4\u001b[0m     \u001b[0mdbscan\u001b[0m\u001b[0;34m.\u001b[0m\u001b[0mlabels_\u001b[0m\u001b[0;34m,\u001b[0m\u001b[0;34m\u001b[0m\u001b[0;34m\u001b[0m\u001b[0m\n\u001b[1;32m      5\u001b[0m     \u001b[0mindex\u001b[0m\u001b[0;34m=\u001b[0m\u001b[0macoustic_vectors\u001b[0m\u001b[0;34m.\u001b[0m\u001b[0mindex\u001b[0m\u001b[0;34m,\u001b[0m\u001b[0;34m\u001b[0m\u001b[0;34m\u001b[0m\u001b[0m\n",
      "\u001b[0;32m~/anaconda3/lib/python3.7/site-packages/sklearn/cluster/mean_shift_.py\u001b[0m in \u001b[0;36mfit\u001b[0;34m(self, X, y)\u001b[0m\n\u001b[1;32m    422\u001b[0m                        \u001b[0mmin_bin_freq\u001b[0m\u001b[0;34m=\u001b[0m\u001b[0mself\u001b[0m\u001b[0;34m.\u001b[0m\u001b[0mmin_bin_freq\u001b[0m\u001b[0;34m,\u001b[0m\u001b[0;34m\u001b[0m\u001b[0;34m\u001b[0m\u001b[0m\n\u001b[1;32m    423\u001b[0m                        \u001b[0mbin_seeding\u001b[0m\u001b[0;34m=\u001b[0m\u001b[0mself\u001b[0m\u001b[0;34m.\u001b[0m\u001b[0mbin_seeding\u001b[0m\u001b[0;34m,\u001b[0m\u001b[0;34m\u001b[0m\u001b[0;34m\u001b[0m\u001b[0m\n\u001b[0;32m--> 424\u001b[0;31m                        cluster_all=self.cluster_all, n_jobs=self.n_jobs)\n\u001b[0m\u001b[1;32m    425\u001b[0m         \u001b[0;32mreturn\u001b[0m \u001b[0mself\u001b[0m\u001b[0;34m\u001b[0m\u001b[0;34m\u001b[0m\u001b[0m\n\u001b[1;32m    426\u001b[0m \u001b[0;34m\u001b[0m\u001b[0m\n",
      "\u001b[0;32m~/anaconda3/lib/python3.7/site-packages/sklearn/cluster/mean_shift_.py\u001b[0m in \u001b[0;36mmean_shift\u001b[0;34m(X, bandwidth, seeds, bin_seeding, min_bin_freq, cluster_all, max_iter, n_jobs)\u001b[0m\n\u001b[1;32m    202\u001b[0m     all_res = Parallel(n_jobs=n_jobs)(\n\u001b[1;32m    203\u001b[0m         \u001b[0mdelayed\u001b[0m\u001b[0;34m(\u001b[0m\u001b[0m_mean_shift_single_seed\u001b[0m\u001b[0;34m)\u001b[0m\u001b[0;34m\u001b[0m\u001b[0;34m\u001b[0m\u001b[0m\n\u001b[0;32m--> 204\u001b[0;31m         (seed, X, nbrs, max_iter) for seed in seeds)\n\u001b[0m\u001b[1;32m    205\u001b[0m     \u001b[0;31m# copy results in a dictionary\u001b[0m\u001b[0;34m\u001b[0m\u001b[0;34m\u001b[0m\u001b[0;34m\u001b[0m\u001b[0m\n\u001b[1;32m    206\u001b[0m     \u001b[0;32mfor\u001b[0m \u001b[0mi\u001b[0m \u001b[0;32min\u001b[0m \u001b[0mrange\u001b[0m\u001b[0;34m(\u001b[0m\u001b[0mlen\u001b[0m\u001b[0;34m(\u001b[0m\u001b[0mseeds\u001b[0m\u001b[0;34m)\u001b[0m\u001b[0;34m)\u001b[0m\u001b[0;34m:\u001b[0m\u001b[0;34m\u001b[0m\u001b[0;34m\u001b[0m\u001b[0m\n",
      "\u001b[0;32m~/anaconda3/lib/python3.7/site-packages/joblib/parallel.py\u001b[0m in \u001b[0;36m__call__\u001b[0;34m(self, iterable)\u001b[0m\n\u001b[1;32m    922\u001b[0m                 \u001b[0mself\u001b[0m\u001b[0;34m.\u001b[0m\u001b[0m_iterating\u001b[0m \u001b[0;34m=\u001b[0m \u001b[0mself\u001b[0m\u001b[0;34m.\u001b[0m\u001b[0m_original_iterator\u001b[0m \u001b[0;32mis\u001b[0m \u001b[0;32mnot\u001b[0m \u001b[0;32mNone\u001b[0m\u001b[0;34m\u001b[0m\u001b[0;34m\u001b[0m\u001b[0m\n\u001b[1;32m    923\u001b[0m \u001b[0;34m\u001b[0m\u001b[0m\n\u001b[0;32m--> 924\u001b[0;31m             \u001b[0;32mwhile\u001b[0m \u001b[0mself\u001b[0m\u001b[0;34m.\u001b[0m\u001b[0mdispatch_one_batch\u001b[0m\u001b[0;34m(\u001b[0m\u001b[0miterator\u001b[0m\u001b[0;34m)\u001b[0m\u001b[0;34m:\u001b[0m\u001b[0;34m\u001b[0m\u001b[0;34m\u001b[0m\u001b[0m\n\u001b[0m\u001b[1;32m    925\u001b[0m                 \u001b[0;32mpass\u001b[0m\u001b[0;34m\u001b[0m\u001b[0;34m\u001b[0m\u001b[0m\n\u001b[1;32m    926\u001b[0m \u001b[0;34m\u001b[0m\u001b[0m\n",
      "\u001b[0;32m~/anaconda3/lib/python3.7/site-packages/joblib/parallel.py\u001b[0m in \u001b[0;36mdispatch_one_batch\u001b[0;34m(self, iterator)\u001b[0m\n\u001b[1;32m    757\u001b[0m                 \u001b[0;32mreturn\u001b[0m \u001b[0;32mFalse\u001b[0m\u001b[0;34m\u001b[0m\u001b[0;34m\u001b[0m\u001b[0m\n\u001b[1;32m    758\u001b[0m             \u001b[0;32melse\u001b[0m\u001b[0;34m:\u001b[0m\u001b[0;34m\u001b[0m\u001b[0;34m\u001b[0m\u001b[0m\n\u001b[0;32m--> 759\u001b[0;31m                 \u001b[0mself\u001b[0m\u001b[0;34m.\u001b[0m\u001b[0m_dispatch\u001b[0m\u001b[0;34m(\u001b[0m\u001b[0mtasks\u001b[0m\u001b[0;34m)\u001b[0m\u001b[0;34m\u001b[0m\u001b[0;34m\u001b[0m\u001b[0m\n\u001b[0m\u001b[1;32m    760\u001b[0m                 \u001b[0;32mreturn\u001b[0m \u001b[0;32mTrue\u001b[0m\u001b[0;34m\u001b[0m\u001b[0;34m\u001b[0m\u001b[0m\n\u001b[1;32m    761\u001b[0m \u001b[0;34m\u001b[0m\u001b[0m\n",
      "\u001b[0;32m~/anaconda3/lib/python3.7/site-packages/joblib/parallel.py\u001b[0m in \u001b[0;36m_dispatch\u001b[0;34m(self, batch)\u001b[0m\n\u001b[1;32m    714\u001b[0m         \u001b[0;32mwith\u001b[0m \u001b[0mself\u001b[0m\u001b[0;34m.\u001b[0m\u001b[0m_lock\u001b[0m\u001b[0;34m:\u001b[0m\u001b[0;34m\u001b[0m\u001b[0;34m\u001b[0m\u001b[0m\n\u001b[1;32m    715\u001b[0m             \u001b[0mjob_idx\u001b[0m \u001b[0;34m=\u001b[0m \u001b[0mlen\u001b[0m\u001b[0;34m(\u001b[0m\u001b[0mself\u001b[0m\u001b[0;34m.\u001b[0m\u001b[0m_jobs\u001b[0m\u001b[0;34m)\u001b[0m\u001b[0;34m\u001b[0m\u001b[0;34m\u001b[0m\u001b[0m\n\u001b[0;32m--> 716\u001b[0;31m             \u001b[0mjob\u001b[0m \u001b[0;34m=\u001b[0m \u001b[0mself\u001b[0m\u001b[0;34m.\u001b[0m\u001b[0m_backend\u001b[0m\u001b[0;34m.\u001b[0m\u001b[0mapply_async\u001b[0m\u001b[0;34m(\u001b[0m\u001b[0mbatch\u001b[0m\u001b[0;34m,\u001b[0m \u001b[0mcallback\u001b[0m\u001b[0;34m=\u001b[0m\u001b[0mcb\u001b[0m\u001b[0;34m)\u001b[0m\u001b[0;34m\u001b[0m\u001b[0;34m\u001b[0m\u001b[0m\n\u001b[0m\u001b[1;32m    717\u001b[0m             \u001b[0;31m# A job can complete so quickly than its callback is\u001b[0m\u001b[0;34m\u001b[0m\u001b[0;34m\u001b[0m\u001b[0;34m\u001b[0m\u001b[0m\n\u001b[1;32m    718\u001b[0m             \u001b[0;31m# called before we get here, causing self._jobs to\u001b[0m\u001b[0;34m\u001b[0m\u001b[0;34m\u001b[0m\u001b[0;34m\u001b[0m\u001b[0m\n",
      "\u001b[0;32m~/anaconda3/lib/python3.7/site-packages/joblib/_parallel_backends.py\u001b[0m in \u001b[0;36mapply_async\u001b[0;34m(self, func, callback)\u001b[0m\n\u001b[1;32m    180\u001b[0m     \u001b[0;32mdef\u001b[0m \u001b[0mapply_async\u001b[0m\u001b[0;34m(\u001b[0m\u001b[0mself\u001b[0m\u001b[0;34m,\u001b[0m \u001b[0mfunc\u001b[0m\u001b[0;34m,\u001b[0m \u001b[0mcallback\u001b[0m\u001b[0;34m=\u001b[0m\u001b[0;32mNone\u001b[0m\u001b[0;34m)\u001b[0m\u001b[0;34m:\u001b[0m\u001b[0;34m\u001b[0m\u001b[0;34m\u001b[0m\u001b[0m\n\u001b[1;32m    181\u001b[0m         \u001b[0;34m\"\"\"Schedule a func to be run\"\"\"\u001b[0m\u001b[0;34m\u001b[0m\u001b[0;34m\u001b[0m\u001b[0m\n\u001b[0;32m--> 182\u001b[0;31m         \u001b[0mresult\u001b[0m \u001b[0;34m=\u001b[0m \u001b[0mImmediateResult\u001b[0m\u001b[0;34m(\u001b[0m\u001b[0mfunc\u001b[0m\u001b[0;34m)\u001b[0m\u001b[0;34m\u001b[0m\u001b[0;34m\u001b[0m\u001b[0m\n\u001b[0m\u001b[1;32m    183\u001b[0m         \u001b[0;32mif\u001b[0m \u001b[0mcallback\u001b[0m\u001b[0;34m:\u001b[0m\u001b[0;34m\u001b[0m\u001b[0;34m\u001b[0m\u001b[0m\n\u001b[1;32m    184\u001b[0m             \u001b[0mcallback\u001b[0m\u001b[0;34m(\u001b[0m\u001b[0mresult\u001b[0m\u001b[0;34m)\u001b[0m\u001b[0;34m\u001b[0m\u001b[0;34m\u001b[0m\u001b[0m\n",
      "\u001b[0;32m~/anaconda3/lib/python3.7/site-packages/joblib/_parallel_backends.py\u001b[0m in \u001b[0;36m__init__\u001b[0;34m(self, batch)\u001b[0m\n\u001b[1;32m    547\u001b[0m         \u001b[0;31m# Don't delay the application, to avoid keeping the input\u001b[0m\u001b[0;34m\u001b[0m\u001b[0;34m\u001b[0m\u001b[0;34m\u001b[0m\u001b[0m\n\u001b[1;32m    548\u001b[0m         \u001b[0;31m# arguments in memory\u001b[0m\u001b[0;34m\u001b[0m\u001b[0;34m\u001b[0m\u001b[0;34m\u001b[0m\u001b[0m\n\u001b[0;32m--> 549\u001b[0;31m         \u001b[0mself\u001b[0m\u001b[0;34m.\u001b[0m\u001b[0mresults\u001b[0m \u001b[0;34m=\u001b[0m \u001b[0mbatch\u001b[0m\u001b[0;34m(\u001b[0m\u001b[0;34m)\u001b[0m\u001b[0;34m\u001b[0m\u001b[0;34m\u001b[0m\u001b[0m\n\u001b[0m\u001b[1;32m    550\u001b[0m \u001b[0;34m\u001b[0m\u001b[0m\n\u001b[1;32m    551\u001b[0m     \u001b[0;32mdef\u001b[0m \u001b[0mget\u001b[0m\u001b[0;34m(\u001b[0m\u001b[0mself\u001b[0m\u001b[0;34m)\u001b[0m\u001b[0;34m:\u001b[0m\u001b[0;34m\u001b[0m\u001b[0;34m\u001b[0m\u001b[0m\n",
      "\u001b[0;32m~/anaconda3/lib/python3.7/site-packages/joblib/parallel.py\u001b[0m in \u001b[0;36m__call__\u001b[0;34m(self)\u001b[0m\n\u001b[1;32m    223\u001b[0m         \u001b[0;32mwith\u001b[0m \u001b[0mparallel_backend\u001b[0m\u001b[0;34m(\u001b[0m\u001b[0mself\u001b[0m\u001b[0;34m.\u001b[0m\u001b[0m_backend\u001b[0m\u001b[0;34m,\u001b[0m \u001b[0mn_jobs\u001b[0m\u001b[0;34m=\u001b[0m\u001b[0mself\u001b[0m\u001b[0;34m.\u001b[0m\u001b[0m_n_jobs\u001b[0m\u001b[0;34m)\u001b[0m\u001b[0;34m:\u001b[0m\u001b[0;34m\u001b[0m\u001b[0;34m\u001b[0m\u001b[0m\n\u001b[1;32m    224\u001b[0m             return [func(*args, **kwargs)\n\u001b[0;32m--> 225\u001b[0;31m                     for func, args, kwargs in self.items]\n\u001b[0m\u001b[1;32m    226\u001b[0m \u001b[0;34m\u001b[0m\u001b[0m\n\u001b[1;32m    227\u001b[0m     \u001b[0;32mdef\u001b[0m \u001b[0m__len__\u001b[0m\u001b[0;34m(\u001b[0m\u001b[0mself\u001b[0m\u001b[0;34m)\u001b[0m\u001b[0;34m:\u001b[0m\u001b[0;34m\u001b[0m\u001b[0;34m\u001b[0m\u001b[0m\n",
      "\u001b[0;31mKeyboardInterrupt\u001b[0m: "
     ]
    }
   ],
   "source": [
    "meanshift = MeanShift().fit(scaled_vecs)\n",
    "\n",
    "meanshift_labels = pd.Series(\n",
    "    dbscan.labels_,\n",
    "    index=acoustic_vectors.index,\n",
    "    name=f\"meanshift_acoustic\"\n",
    ")\n",
    "\n",
    "meanshift_labels.value_counts().sort_index()"
   ]
  },
  {
   "cell_type": "markdown",
   "metadata": {},
   "source": [
    "Create clusters with `SpectralClustering`..."
   ]
  },
  {
   "cell_type": "code",
   "execution_count": null,
   "metadata": {},
   "outputs": [],
   "source": [
    "spectral = SpectralClustering(\n",
    "    n_clusters=N_CLUSTERS\n",
    ").fit(scaled_vecs)\n",
    "\n",
    "spectral_labels = pd.Series(\n",
    "    spectral.labels_,\n",
    "    index=track_features.index,\n",
    "    name=f\"spectral_{N_CLUSTERS}\"\n",
    ")\n",
    "\n",
    "spectral_labels.value_counts().sort_index()"
   ]
  },
  {
   "cell_type": "markdown",
   "metadata": {},
   "source": [
    "Create clusters with `AgglomerativeClustering`..."
   ]
  },
  {
   "cell_type": "code",
   "execution_count": null,
   "metadata": {},
   "outputs": [],
   "source": [
    "agglom = AgglomerativeClustering(\n",
    "    n_clusters=N_CLUSTERS\n",
    ").fit(scaled_vecs)\n",
    "\n",
    "agglom_labels = pd.Series(\n",
    "    agglom.labels_,\n",
    "    index=track_features.index,\n",
    "    name=f\"agglom_{N_CLUSTERS}\"\n",
    ")\n",
    "\n",
    "agglom_labels.value_counts().sort_index()"
   ]
  },
  {
   "cell_type": "markdown",
   "metadata": {},
   "source": [
    "Now turn that into a `DataFrame` that can be joined with the original data"
   ]
  },
  {
   "cell_type": "code",
   "execution_count": 17,
   "metadata": {},
   "outputs": [
    {
     "data": {
      "text/html": [
       "<div>\n",
       "<style scoped>\n",
       "    .dataframe tbody tr th:only-of-type {\n",
       "        vertical-align: middle;\n",
       "    }\n",
       "\n",
       "    .dataframe tbody tr th {\n",
       "        vertical-align: top;\n",
       "    }\n",
       "\n",
       "    .dataframe thead th {\n",
       "        text-align: right;\n",
       "    }\n",
       "</style>\n",
       "<table border=\"1\" class=\"dataframe\">\n",
       "  <thead>\n",
       "    <tr style=\"text-align: right;\">\n",
       "      <th></th>\n",
       "      <th>kmeans_20</th>\n",
       "      <th>dbscan</th>\n",
       "    </tr>\n",
       "    <tr>\n",
       "      <th>track_id</th>\n",
       "      <th></th>\n",
       "      <th></th>\n",
       "    </tr>\n",
       "  </thead>\n",
       "  <tbody>\n",
       "    <tr>\n",
       "      <th>t_a540e552-16d4-42f8-a185-232bd650ea7d</th>\n",
       "      <td>15</td>\n",
       "      <td>-1</td>\n",
       "    </tr>\n",
       "    <tr>\n",
       "      <th>t_67965da0-132b-4b1e-8a69-0ef99b32287c</th>\n",
       "      <td>17</td>\n",
       "      <td>-1</td>\n",
       "    </tr>\n",
       "    <tr>\n",
       "      <th>t_0614ecd3-a7d5-40a1-816e-156d5872a467</th>\n",
       "      <td>17</td>\n",
       "      <td>-1</td>\n",
       "    </tr>\n",
       "    <tr>\n",
       "      <th>t_070a63a0-744a-434e-9913-a97b02926a29</th>\n",
       "      <td>17</td>\n",
       "      <td>-1</td>\n",
       "    </tr>\n",
       "    <tr>\n",
       "      <th>t_d6990e17-9c31-4b01-8559-47d9ce476df1</th>\n",
       "      <td>10</td>\n",
       "      <td>-1</td>\n",
       "    </tr>\n",
       "  </tbody>\n",
       "</table>\n",
       "</div>"
      ],
      "text/plain": [
       "                                        kmeans_20  dbscan\n",
       "track_id                                                 \n",
       "t_a540e552-16d4-42f8-a185-232bd650ea7d         15      -1\n",
       "t_67965da0-132b-4b1e-8a69-0ef99b32287c         17      -1\n",
       "t_0614ecd3-a7d5-40a1-816e-156d5872a467         17      -1\n",
       "t_070a63a0-744a-434e-9913-a97b02926a29         17      -1\n",
       "t_d6990e17-9c31-4b01-8559-47d9ce476df1         10      -1"
      ]
     },
     "execution_count": 17,
     "metadata": {},
     "output_type": "execute_result"
    }
   ],
   "source": [
    "track_clusters = pd.DataFrame([\n",
    "    kmeans_labels,\n",
    "    dbscan_labels,\n",
    "    meanshift_labels,\n",
    "    agglom_labels,\n",
    "    spectral_labels\n",
    "]).transpose()\n",
    "track_clusters.head()"
   ]
  },
  {
   "cell_type": "code",
   "execution_count": 19,
   "metadata": {},
   "outputs": [
    {
     "data": {
      "text/plain": [
       "<matplotlib.axes._subplots.AxesSubplot at 0x12ab6c9e8>"
      ]
     },
     "execution_count": 19,
     "metadata": {},
     "output_type": "execute_result"
    },
    {
     "data": {
      "image/png": "[encoded data removed]",
      "text/plain": [
       "<Figure size 432x288 with 1 Axes>"
      ]
     },
     "metadata": {
      "needs_background": "light"
     },
     "output_type": "display_data"
    }
   ],
   "source": [
    "kmeans_dist = track_clusters.kmeans_20.value_counts()\n",
    "sns.barplot(\n",
    "    kmeans_dist.index,\n",
    "    kmeans_dist.values\n",
    ")"
   ]
  },
  {
   "cell_type": "code",
   "execution_count": 20,
   "metadata": {},
   "outputs": [
    {
     "data": {
      "text/plain": [
       "<matplotlib.axes._subplots.AxesSubplot at 0x12d170908>"
      ]
     },
     "execution_count": 20,
     "metadata": {},
     "output_type": "execute_result"
    },
    {
     "data": {
      "image/png": "[encoded data removed]",
      "text/plain": [
       "<Figure size 432x288 with 1 Axes>"
      ]
     },
     "metadata": {
      "needs_background": "light"
     },
     "output_type": "display_data"
    }
   ],
   "source": [
    "dbscan_dist = track_clusters.dbscan.value_counts()\n",
    "sns.barplot(\n",
    "    dbscan_dist.index,\n",
    "    dbscan_dist.values\n",
    ")"
   ]
  },
  {
   "cell_type": "code",
   "execution_count": null,
   "metadata": {},
   "outputs": [],
   "source": []
  },
  {
   "cell_type": "code",
   "execution_count": null,
   "metadata": {},
   "outputs": [],
   "source": [
    "track_clusters.to_pickle(\"./track_clusters.pkl\")"
   ]
  },
  {
   "cell_type": "code",
   "execution_count": null,
   "metadata": {},
   "outputs": [],
   "source": []
  },
  {
   "cell_type": "code",
   "execution_count": null,
   "metadata": {},
   "outputs": [],
   "source": []
  },
  {
   "cell_type": "code",
   "execution_count": null,
   "metadata": {},
   "outputs": [],
   "source": [
    "# training_set = pd.read_csv(\"./data/data/mini_data/training_set/log_mini.csv\")"
   ]
  },
  {
   "cell_type": "code",
   "execution_count": null,
   "metadata": {},
   "outputs": [],
   "source": []
  }
 ],
 "metadata": {
  "kernelspec": {
   "display_name": "Python 3",
   "language": "python",
   "name": "python3"
  },
  "language_info": {
   "codemirror_mode": {
    "name": "ipython",
    "version": 3
   },
   "file_extension": ".py",
   "mimetype": "text/x-python",
   "name": "python",
   "nbconvert_exporter": "python",
   "pygments_lexer": "ipython3",
   "version": "3.7.3"
  }
 },
 "nbformat": 4,
 "nbformat_minor": 4
}
